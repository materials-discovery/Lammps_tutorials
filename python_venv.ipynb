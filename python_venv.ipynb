{
 "cells": [
  {
   "cell_type": "markdown",
   "id": "cc22df01",
   "metadata": {},
   "source": [
    "# Tutorial to create a pyhton enviroment \n",
    "\n",
    "\n",
    "A python environment is a simple method to work with multiple versions of python on the same machine and account. \n",
    "\n",
    "\n",
    "1. visit https://docs.python.org/3/library/venv.html anb read it ! \n",
    "2. visit or create the local folder for your specific project \n",
    "3. run in this folder \n",
    "\n",
    "```sh\n",
    "python3 -m venv ./venv_learn_ase \n",
    "adham@oasis1:~/phd_project/learn_ase$ python3 -m venv ./venv_learn_ase \n",
    "adham@oasis1:~/phd_project/learn_ase$ ll\n",
    "total 12\n",
    "drwxrwxr-x 3 adham adham 4096 Jan 10 16:40 ./\n",
    "drwxrwxr-x 3 adham adham 4096 Jan 10 16:39 ../\n",
    "drwxrwxr-x 6 adham adham 4096 Jan 10 16:40 venv_learn_ase/\n",
    "\n",
    "```\n",
    "- as we see this has created the folder `venv_learn_ase` which contains:\n",
    "\n",
    "```sh\n",
    ".\n",
    "└── venv_learn_ase\n",
    "    ├── bin\n",
    "    ├── include\n",
    "    ├── lib\n",
    "    ├── lib64 -> lib\n",
    "    ├── pyvenv.cfg\n",
    "    └── share\n",
    "```\n",
    "\n",
    "now we need to go tot the bin folder and sourc e(run) the activate file: \n",
    "\n",
    "```bash\n",
    "adham@oasis1:~/phd_project/learn_ase$ source venv_learn_ase/bin/activate\n",
    "(venv_learn_ase) adham@oasis1:~/phd_project/learn_ase$ \n",
    "```\n",
    "\n",
    "ands this activates your brand new python environment '(venv_learn_ase)'\n",
    "\n",
    "*Note: The built-in bash source command reads and executes the content of a file.*"
   ]
  },
  {
   "cell_type": "code",
   "execution_count": null,
   "id": "f15b7f33",
   "metadata": {},
   "outputs": [],
   "source": []
  },
  {
   "cell_type": "code",
   "execution_count": null,
   "id": "549048c2",
   "metadata": {},
   "outputs": [],
   "source": []
  }
 ],
 "metadata": {
  "kernelspec": {
   "display_name": "Python 3 (ipykernel)",
   "language": "python",
   "name": "python3"
  },
  "language_info": {
   "codemirror_mode": {
    "name": "ipython",
    "version": 3
   },
   "file_extension": ".py",
   "mimetype": "text/x-python",
   "name": "python",
   "nbconvert_exporter": "python",
   "pygments_lexer": "ipython3",
   "version": "3.9.18"
  }
 },
 "nbformat": 4,
 "nbformat_minor": 5
}
